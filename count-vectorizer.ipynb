{
 "cells": [
  {
   "cell_type": "code",
   "execution_count": 2,
   "metadata": {},
   "outputs": [
    {
     "name": "stdout",
     "output_type": "stream",
     "text": [
      "let\n",
      "me\n",
      "google\n",
      "some\n",
      "text,\n",
      "I\n",
      "can't\n",
      "thnk\n",
      "what\n",
      "to\n",
      "type\n",
      "now.\n"
     ]
    }
   ],
   "source": [
    "data = \"let me google some text, I can't thnk what to type now.\"\n",
    "\n",
    "for text in data.split(' '):\n",
    "    print(text)"
   ]
  },
  {
   "cell_type": "code",
   "execution_count": 8,
   "metadata": {},
   "outputs": [
    {
     "name": "stdout",
     "output_type": "stream",
     "text": [
      "Unique words: {'are', 'truth', 'that', 'sun', 'but', 'fire', 'doth', 'love', 'the', 'never', 'move', 'stars', 'thou', 'liar', 'doubt'}\n",
      "Vocabulary: {'are': 0, 'but': 1, 'doth': 2, 'doubt': 3, 'fire': 4, 'liar': 5, 'love': 6, 'move': 7, 'never': 8, 'stars': 9, 'sun': 10, 'that': 11, 'the': 12, 'thou': 13, 'truth': 14}\n"
     ]
    }
   ],
   "source": [
    "data = [\n",
    "    \"doubt thou the stars are fire ;\",\n",
    "    \"doubt that the sun doth move ;\",\n",
    "    \"doubt truth to be a liar ;\",\n",
    "    \"but never doubt i love .\"\n",
    "]\n",
    "\n",
    "unique_words = set()\n",
    "\n",
    "for each_sentence in data:\n",
    "    for each_word in each_sentence.split(' '):\n",
    "        if len(each_word) > 2:\n",
    "            unique_words.add(each_word)\n",
    "\n",
    "print(\"Unique words:\", unique_words)\n",
    "\n",
    "# Indexing the data\n",
    "\n",
    "vocab = dict()\n",
    "\n",
    "for index, word in enumerate(sorted(list(unique_words))):\n",
    "    vocab[word] = index\n",
    "\n",
    "print(\"Vocabulary:\", vocab)"
   ]
  },
  {
   "cell_type": "code",
   "execution_count": 11,
   "metadata": {},
   "outputs": [
    {
     "name": "stdout",
     "output_type": "stream",
     "text": [
      "{'doubt': 1, 'thou': 1, 'the': 1, 'stars': 1, 'are': 1, 'fire': 1, ';': 1}\n",
      "{'doubt': 1, 'that': 1, 'the': 1, 'sun': 1, 'doth': 1, 'move': 1, ';': 1}\n",
      "{'doubt': 1, 'truth': 1, 'to': 1, 'be': 1, 'a': 1, 'liar': 1, ';': 1}\n",
      "{'but': 1, 'never': 1, 'doubt': 1, 'i': 1, 'love': 1, '.': 1}\n",
      "[0, 0, 0, 0, 0, 0, 1, 1, 1, 1, 1, 1, 2, 2, 2, 3, 3, 3, 3]\n",
      "[3, 13, 12, 9, 0, 4, 3, 11, 12, 10, 2, 7, 3, 14, 5, 1, 8, 3, 6]\n",
      "[1, 1, 1, 1, 1, 1, 1, 1, 1, 1, 1, 1, 1, 1, 1, 1, 1, 1, 1]\n"
     ]
    }
   ],
   "source": [
    "from collections import Counter\n",
    "from scipy.sparse import csr_matrix\n",
    "\n",
    "row, col, val = list(), list(), list()\n",
    "\n",
    "for idx, sentence in enumerate(data):\n",
    "    count_word = dict(Counter(sentence.split(' ')))\n",
    "    \n",
    "    # Checking the words in count_word with the vocabulary\n",
    "    for word, count in count_word.items():\n",
    "        if len(word) > 2:\n",
    "            col_index = vocab.get(word)\n",
    "            if col_index >= 0:\n",
    "                row.append(idx)\n",
    "                col.append(col_index)\n",
    "                val.append(count)\n",
    "\n",
    "    print(count_word)\n",
    "\n",
    "print(row)\n",
    "print(col)\n",
    "print(val)"
   ]
  },
  {
   "cell_type": "code",
   "execution_count": 13,
   "metadata": {},
   "outputs": [
    {
     "name": "stdout",
     "output_type": "stream",
     "text": [
      "[[1 0 0 1 1 0 0 0 0 1 0 0 1 1 0]\n",
      " [0 0 1 1 0 0 0 1 0 0 1 1 1 0 0]\n",
      " [0 0 0 1 0 1 0 0 0 0 0 0 0 0 1]\n",
      " [0 1 0 1 0 0 1 0 1 0 0 0 0 0 0]]\n"
     ]
    }
   ],
   "source": [
    "print((csr_matrix((val, (row, col)), shape = (len(data), len(vocab)))).toarray())"
   ]
  },
  {
   "cell_type": "code",
   "execution_count": null,
   "metadata": {},
   "outputs": [],
   "source": []
  }
 ],
 "metadata": {
  "kernelspec": {
   "display_name": "Python 3.10.4 64-bit",
   "language": "python",
   "name": "python3"
  },
  "language_info": {
   "codemirror_mode": {
    "name": "ipython",
    "version": 3
   },
   "file_extension": ".py",
   "mimetype": "text/x-python",
   "name": "python",
   "nbconvert_exporter": "python",
   "pygments_lexer": "ipython3",
   "version": "3.10.4"
  },
  "orig_nbformat": 4,
  "vscode": {
   "interpreter": {
    "hash": "916dbcbb3f70747c44a77c7bcd40155683ae19c65e1c03b4aa3499c5328201f1"
   }
  }
 },
 "nbformat": 4,
 "nbformat_minor": 2
}
