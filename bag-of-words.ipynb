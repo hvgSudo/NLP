{
 "cells": [
  {
   "cell_type": "code",
   "execution_count": 1,
   "metadata": {},
   "outputs": [],
   "source": [
    "set = {'she', 'loves', 'pizza', 'is', 'delicious', 'a', 'good', 'person', 'people', 'are', 'the', 'best'}"
   ]
  },
  {
   "cell_type": "code",
   "execution_count": 2,
   "metadata": {},
   "outputs": [
    {
     "name": "stdout",
     "output_type": "stream",
     "text": [
      "Length of corpus: 12\n"
     ]
    }
   ],
   "source": [
    "print(\"Length of corpus:\", len(set))"
   ]
  },
  {
   "cell_type": "code",
   "execution_count": 5,
   "metadata": {},
   "outputs": [
    {
     "name": "stderr",
     "output_type": "stream",
     "text": [
      "[nltk_data] Downloading collection 'popular'\n",
      "[nltk_data]    | \n",
      "[nltk_data]    | Downloading package cmudict to /home/khal-\n",
      "[nltk_data]    |     drog0/nltk_data...\n",
      "[nltk_data]    |   Unzipping corpora/cmudict.zip.\n",
      "[nltk_data]    | Downloading package gazetteers to /home/khal-\n",
      "[nltk_data]    |     drog0/nltk_data...\n",
      "[nltk_data]    |   Unzipping corpora/gazetteers.zip.\n",
      "[nltk_data]    | Downloading package genesis to /home/khal-\n",
      "[nltk_data]    |     drog0/nltk_data...\n",
      "[nltk_data]    |   Unzipping corpora/genesis.zip.\n",
      "[nltk_data]    | Downloading package gutenberg to /home/khal-\n",
      "[nltk_data]    |     drog0/nltk_data...\n",
      "[nltk_data]    |   Unzipping corpora/gutenberg.zip.\n",
      "[nltk_data]    | Downloading package inaugural to /home/khal-\n",
      "[nltk_data]    |     drog0/nltk_data...\n",
      "[nltk_data]    |   Unzipping corpora/inaugural.zip.\n",
      "[nltk_data]    | Downloading package movie_reviews to /home/khal-\n",
      "[nltk_data]    |     drog0/nltk_data...\n",
      "[nltk_data]    |   Unzipping corpora/movie_reviews.zip.\n",
      "[nltk_data]    | Downloading package names to /home/khal-\n",
      "[nltk_data]    |     drog0/nltk_data...\n",
      "[nltk_data]    |   Unzipping corpora/names.zip.\n",
      "[nltk_data]    | Downloading package shakespeare to /home/khal-\n",
      "[nltk_data]    |     drog0/nltk_data...\n",
      "[nltk_data]    |   Unzipping corpora/shakespeare.zip.\n",
      "[nltk_data]    | Downloading package stopwords to /home/khal-\n",
      "[nltk_data]    |     drog0/nltk_data...\n",
      "[nltk_data]    |   Unzipping corpora/stopwords.zip.\n",
      "[nltk_data]    | Downloading package treebank to /home/khal-\n",
      "[nltk_data]    |     drog0/nltk_data...\n",
      "[nltk_data]    |   Unzipping corpora/treebank.zip.\n",
      "[nltk_data]    | Downloading package twitter_samples to /home/khal-\n",
      "[nltk_data]    |     drog0/nltk_data...\n",
      "[nltk_data]    |   Unzipping corpora/twitter_samples.zip.\n",
      "[nltk_data]    | Downloading package omw to /home/khal-\n",
      "[nltk_data]    |     drog0/nltk_data...\n",
      "[nltk_data]    | Downloading package omw-1.4 to /home/khal-\n",
      "[nltk_data]    |     drog0/nltk_data...\n",
      "[nltk_data]    | Downloading package wordnet to /home/khal-\n",
      "[nltk_data]    |     drog0/nltk_data...\n",
      "[nltk_data]    | Downloading package wordnet2021 to /home/khal-\n",
      "[nltk_data]    |     drog0/nltk_data...\n",
      "[nltk_data]    | Downloading package wordnet31 to /home/khal-\n",
      "[nltk_data]    |     drog0/nltk_data...\n",
      "[nltk_data]    | Downloading package wordnet_ic to /home/khal-\n",
      "[nltk_data]    |     drog0/nltk_data...\n",
      "[nltk_data]    |   Unzipping corpora/wordnet_ic.zip.\n",
      "[nltk_data]    | Downloading package words to /home/khal-\n",
      "[nltk_data]    |     drog0/nltk_data...\n",
      "[nltk_data]    |   Unzipping corpora/words.zip.\n",
      "[nltk_data]    | Downloading package maxent_ne_chunker to /home/khal-\n",
      "[nltk_data]    |     drog0/nltk_data...\n",
      "[nltk_data]    |   Unzipping chunkers/maxent_ne_chunker.zip.\n",
      "[nltk_data]    | Downloading package punkt to /home/khal-\n",
      "[nltk_data]    |     drog0/nltk_data...\n",
      "[nltk_data]    |   Unzipping tokenizers/punkt.zip.\n",
      "[nltk_data]    | Downloading package snowball_data to /home/khal-\n",
      "[nltk_data]    |     drog0/nltk_data...\n",
      "[nltk_data]    | Downloading package averaged_perceptron_tagger to\n",
      "[nltk_data]    |     /home/khal-drog0/nltk_data...\n",
      "[nltk_data]    |   Unzipping taggers/averaged_perceptron_tagger.zip.\n",
      "[nltk_data]    | \n",
      "[nltk_data]  Done downloading collection popular\n"
     ]
    },
    {
     "data": {
      "text/plain": [
       "True"
      ]
     },
     "execution_count": 5,
     "metadata": {},
     "output_type": "execute_result"
    }
   ],
   "source": [
    "import nltk\n",
    "nltk.download('popular')"
   ]
  },
  {
   "cell_type": "code",
   "execution_count": 4,
   "metadata": {},
   "outputs": [],
   "source": [
    "import numpy as np\n",
    "from nltk.tokenize import word_tokenize\n",
    "from collections import defaultdict\n",
    "\n",
    "# Sample test corpus\n",
    "data = ['She loves pizza, pizza is delicious.',\n",
    "        'She is a good person', \n",
    "        'good people are the best.']\n",
    "\n",
    "# Clean the corpus\n",
    "sentences = list()\n",
    "vocab = list()\n",
    "\n",
    "for sent in data:\n",
    "    x = word_tokenize(sent)\n",
    "    sentence = [w.lower() for w in x if w.isalpha()]\n",
    "    sentences.append(sentence)\n",
    "\n",
    "    for word in sentence:\n",
    "        if word not in vocab:\n",
    "            vocab.append(word)\n",
    "\n",
    "# number of words in the vocab\n",
    "len_vector = len(vocab)"
   ]
  },
  {
   "cell_type": "code",
   "execution_count": 6,
   "metadata": {},
   "outputs": [],
   "source": [
    "# index dictionary to assign an index to each word in vocabulary\n",
    "index_word = {}\n",
    "i = 0\n",
    "\n",
    "for word in vocab:\n",
    "    index_word[word] = i\n",
    "    i += 1"
   ]
  },
  {
   "cell_type": "code",
   "execution_count": 12,
   "metadata": {},
   "outputs": [
    {
     "data": {
      "text/plain": [
       "{'she': 0,\n",
       " 'loves': 1,\n",
       " 'pizza': 2,\n",
       " 'is': 3,\n",
       " 'delicious': 4,\n",
       " 'a': 5,\n",
       " 'good': 6,\n",
       " 'person': 7,\n",
       " 'people': 8,\n",
       " 'are': 9,\n",
       " 'the': 10,\n",
       " 'best': 11}"
      ]
     },
     "execution_count": 12,
     "metadata": {},
     "output_type": "execute_result"
    }
   ],
   "source": [
    "index_word"
   ]
  },
  {
   "cell_type": "code",
   "execution_count": 15,
   "metadata": {},
   "outputs": [],
   "source": [
    "def bag_of_words(sent):\n",
    "    count_dict = defaultdict(int)\n",
    "    vec = np.zeros(len_vector)\n",
    "\n",
    "    for item in sent:\n",
    "        count_dict[item] += 1\n",
    "    \n",
    "    for key, item in count_dict.items():\n",
    "        vec[index_word[key]] = item\n",
    "    \n",
    "    return (count_dict, vec)"
   ]
  },
  {
   "cell_type": "code",
   "execution_count": 20,
   "metadata": {},
   "outputs": [
    {
     "name": "stdout",
     "output_type": "stream",
     "text": [
      "Count Dictionary: defaultdict(<class 'int'>, {'she': 1, 'loves': 1, 'pizza': 2, 'is': 1, 'delicious': 1})\n",
      "Vectors: [1. 1. 2. 1. 1. 0. 0. 0. 0. 0. 0. 0.]\n",
      "Count Dictionary: defaultdict(<class 'int'>, {'she': 1, 'is': 1, 'a': 1, 'good': 1, 'person': 1})\n",
      "Vectors: [1. 0. 0. 1. 0. 1. 1. 1. 0. 0. 0. 0.]\n",
      "Count Dictionary: defaultdict(<class 'int'>, {'good': 1, 'people': 1, 'are': 1, 'the': 1, 'best': 1})\n",
      "Vectors: [0. 0. 0. 0. 0. 0. 1. 0. 1. 1. 1. 1.]\n"
     ]
    }
   ],
   "source": [
    "for i in sentences:\n",
    "    count_dict, vector = bag_of_words(i)\n",
    "    print(\"Count Dictionary:\", count_dict)\n",
    "    print(\"Vectors:\", vector)"
   ]
  },
  {
   "cell_type": "code",
   "execution_count": null,
   "metadata": {},
   "outputs": [],
   "source": []
  }
 ],
 "metadata": {
  "kernelspec": {
   "display_name": "Python 3.10.4 64-bit",
   "language": "python",
   "name": "python3"
  },
  "language_info": {
   "codemirror_mode": {
    "name": "ipython",
    "version": 3
   },
   "file_extension": ".py",
   "mimetype": "text/x-python",
   "name": "python",
   "nbconvert_exporter": "python",
   "pygments_lexer": "ipython3",
   "version": "3.10.4"
  },
  "orig_nbformat": 4,
  "vscode": {
   "interpreter": {
    "hash": "916dbcbb3f70747c44a77c7bcd40155683ae19c65e1c03b4aa3499c5328201f1"
   }
  }
 },
 "nbformat": 4,
 "nbformat_minor": 2
}
